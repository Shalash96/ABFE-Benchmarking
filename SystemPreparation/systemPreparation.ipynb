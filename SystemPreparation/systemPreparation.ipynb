{
 "cells": [
  {
   "cell_type": "code",
   "execution_count": null,
   "metadata": {},
   "outputs": [],
   "source": [
    "import BioSimSpace as BSS"
   ]
  },
  {
   "cell_type": "markdown",
   "metadata": {},
   "source": [
    "## Input files for the system"
   ]
  },
  {
   "cell_type": "code",
   "execution_count": null,
   "metadata": {},
   "outputs": [],
   "source": [
    "# Using files IN both AMBER or GROMACS BioSimSpace can handel both \n",
    "\n",
    "system = BSS.IO.readMolecules(['your/path/to/the/files', 'your/path/to/files'])"
   ]
  },
  {
   "cell_type": "markdown",
   "metadata": {},
   "source": [
    "## Information about the system "
   ]
  },
  {
   "cell_type": "code",
   "execution_count": null,
   "metadata": {},
   "outputs": [],
   "source": [
    "# make sure you read the correct file type\n",
    "\n",
    "system.fileFormat()"
   ]
  },
  {
   "cell_type": "code",
   "execution_count": null,
   "metadata": {},
   "outputs": [],
   "source": [
    "# check the number of molecules in the system\n",
    "\n",
    "system.nMolecules()"
   ]
  },
  {
   "cell_type": "code",
   "execution_count": null,
   "metadata": {},
   "outputs": [],
   "source": [
    "# how many of these molecules are water molecules\n",
    "\n",
    "system.nWaterMolecules()"
   ]
  },
  {
   "cell_type": "code",
   "execution_count": null,
   "metadata": {},
   "outputs": [],
   "source": [
    "# the total charge of the system\n",
    "\n",
    "system.charge()"
   ]
  },
  {
   "cell_type": "code",
   "execution_count": null,
   "metadata": {},
   "outputs": [],
   "source": [
    "# see info about all the molecules in the system eg nAtoms, nResidues, charge \n",
    "\n",
    "print(f'{\"ID\":5}{\"Number of Atoms\":20}{\"Number of Residues\"}{\"The charge of the molecules\":>30}')\n",
    "\n",
    "for molecule in range(system.nMolecules()):\n",
    "    print(f'{molecule+1:<5}{system[molecule].nAtoms():< 25}{system[molecule].nResidues():<20}{system[molecule].charge()}')"
   ]
  },
  {
   "cell_type": "markdown",
   "metadata": {},
   "source": [
    "## Applying a force field to the system"
   ]
  },
  {
   "cell_type": "code",
   "execution_count": null,
   "metadata": {},
   "outputs": [],
   "source": [
    "# When applying a force filed, you cant pass the whole system as it will give u an error \n",
    "# Because the force field used for protien not the same as for the molcules\n",
    "# here we will not apply a force field as the it is already applied \n",
    "\n",
    "#gaff_system = BSS.Parameters.gaff(system).getMolecule()\n",
    "\n"
   ]
  },
  {
   "cell_type": "markdown",
   "metadata": {},
   "source": [
    "## Solvation of the system and neutralization of the charge \n",
    "##### NB: Solvation can occur to the whole system at once not as applying force field\n"
   ]
  },
  {
   "cell_type": "markdown",
   "metadata": {},
   "source": [
    "#### First calculate the box size in which the system will be sovated"
   ]
  },
  {
   "cell_type": "code",
   "execution_count": null,
   "metadata": {},
   "outputs": [],
   "source": [
    "# Get the minimium and maximum coordinates of the bounding box that\n",
    "# minimally encloses the protein.\n",
    "box_min, box_max = system.getAxisAlignedBoundingBox()\n",
    "\n",
    "# Work out the box size from the difference in the coordinates.\n",
    "box_size = [y - x for x, y in zip(box_min, box_max)]\n",
    "\n",
    "# How much to pad each side of the protein? (Nonbonded cutoff = 10 A)\n",
    "padding = 15 * BSS.Units.Length.angstrom\n",
    "\n",
    "# Work out an appropriate box. This will used in each dimension to ensure\n",
    "# that the cutoff constraints are satisfied if the molecule rotates.\n",
    "box_length = max(box_size) + 2*padding"
   ]
  },
  {
   "cell_type": "markdown",
   "metadata": {},
   "source": [
    "#### After calculating the size of the box, we place the system, water, counter ions inside it."
   ]
  },
  {
   "cell_type": "code",
   "execution_count": null,
   "metadata": {},
   "outputs": [],
   "source": [
    "# tip3 water model and ~150 nM of Nacl is used to neutalize and solvate the system \n",
    "\n",
    "solavted_system = BSS.Solvent.tip3p(system, box = 3 * [box_length], ion_conc=0.15)"
   ]
  },
  {
   "cell_type": "code",
   "execution_count": null,
   "metadata": {},
   "outputs": [],
   "source": [
    "# checking the charge of the system after adding counterions to nutralize the charge of the system\n",
    "# Ideally it will be zero, but very small charge that is ~ zero is allowed\n",
    "\n",
    "solavted_system.charge()"
   ]
  },
  {
   "cell_type": "markdown",
   "metadata": {},
   "source": [
    "## Viewing of the solvated system"
   ]
  },
  {
   "cell_type": "code",
   "execution_count": null,
   "metadata": {},
   "outputs": [],
   "source": [
    "view = BSS.Notebook.View(solavted_system)\n",
    "view.system()"
   ]
  },
  {
   "cell_type": "markdown",
   "metadata": {},
   "source": [
    "# Before running the Simulation process, we have to do Energy Minimization and Equiliburation for the system"
   ]
  },
  {
   "cell_type": "markdown",
   "metadata": {},
   "source": [
    "## Firstly, Energy Minimization"
   ]
  },
  {
   "cell_type": "markdown",
   "metadata": {},
   "source": [
    "#### The goal of Energy minimization is to remove any steric clashes or unusual geometry which would artificially raise the energy of the system, we must relax the structure by running an energy minimization (EM) algorithm."
   ]
  },
  {
   "cell_type": "code",
   "execution_count": null,
   "metadata": {},
   "outputs": [],
   "source": [
    "#Energy Minimisation for the whole system\n",
    "\n",
    "minimisation_protocol = BSS.Protocol.Minimisation(steps=1000)"
   ]
  },
  {
   "cell_type": "code",
   "execution_count": null,
   "metadata": {},
   "outputs": [],
   "source": [
    "# Choosing the engine to do the minimisation process\n",
    "\n",
    "minimisation_process = BSS.Process.Amber(solavted_system, minimisation_protocol)"
   ]
  },
  {
   "cell_type": "code",
   "execution_count": null,
   "metadata": {},
   "outputs": [],
   "source": [
    "# Checking the source of the engine used to carry out the process\n",
    "\n",
    "minimisation_process.exe()"
   ]
  },
  {
   "cell_type": "code",
   "execution_count": null,
   "metadata": {},
   "outputs": [],
   "source": [
    "# Start the minimization process\n",
    "\n",
    "minimisation_process.start()"
   ]
  },
  {
   "cell_type": "code",
   "execution_count": null,
   "metadata": {},
   "outputs": [],
   "source": [
    "# Checking if it still running or not\n",
    "\n",
    "minimisation_process.isRunning()"
   ]
  },
  {
   "cell_type": "code",
   "execution_count": null,
   "metadata": {},
   "outputs": [],
   "source": [
    "# Checking the time taken to finish the process\n",
    "\n",
    "# minimisation_process.runTime()"
   ]
  },
  {
   "cell_type": "code",
   "execution_count": null,
   "metadata": {},
   "outputs": [],
   "source": [
    "# Getting the system after finishing the minimization process\n",
    "\n",
    "minimisation_system = minimisation_process.getSystem(block=True)"
   ]
  },
  {
   "cell_type": "code",
   "execution_count": null,
   "metadata": {},
   "outputs": [],
   "source": [
    "# checking whether the process done successfully or not\n",
    "\n",
    "minimisation_process.isError()\n"
   ]
  },
  {
   "cell_type": "code",
   "execution_count": null,
   "metadata": {},
   "outputs": [],
   "source": [
    "# Plotting energy vs time\n",
    "\n",
    "plot = BSS.Notebook.plot(minimisation_process.getTime(time_series=True), minimisation_process.getTotalEnergy(time_series=True))"
   ]
  },
  {
   "cell_type": "code",
   "execution_count": null,
   "metadata": {},
   "outputs": [],
   "source": [
    "# Saving the minimized system\n",
    "\n",
    "BSS.IO.saveMolecules('path/to/the/folder/to/save/the/minimized/system', minimisation_system, [\"prm7\", \"rst7\",\"pdb\"])"
   ]
  },
  {
   "cell_type": "markdown",
   "metadata": {},
   "source": [
    "## Secondaly, Equilibiration"
   ]
  },
  {
   "cell_type": "markdown",
   "metadata": {},
   "source": [
    "#### At this point equilibration of the solvent around the solute (i.e. the protein) is necessary. This is performed in two stages: equilibration under an NVT ensemble, followed by an NPT ensemble. Use of the NVT ensemble entails maintaining constant number of particles, volume and temperature, while the NPT ensemble maintains constant number of particles, pressure and temperature. (The NVT ensemble is also known as the isothermal-isochoric ensemble, while the NPT ensemble is also known as the isothermal-isobaric ensemble)."
   ]
  },
  {
   "cell_type": "markdown",
   "metadata": {},
   "source": [
    "### Firstly, NVT Equilibiration"
   ]
  },
  {
   "cell_type": "markdown",
   "metadata": {},
   "source": [
    "#### NVT equilibration for 5 ps while restraining all non-solvent atoms"
   ]
  },
  {
   "cell_type": "code",
   "execution_count": null,
   "metadata": {},
   "outputs": [],
   "source": [
    "\n",
    "equil_protocol_1 = BSS.Protocol.Equilibration(\n",
    "\n",
    "                                runtime=5*BSS.Units.Time.picosecond, \n",
    "                                temperature_start=0*BSS.Units.Temperature.kelvin, \n",
    "                                temperature_end=300*BSS.Units.Temperature.kelvin,\n",
    "                                restraint=\"all\"\n",
    "                                \n",
    ")"
   ]
  },
  {
   "cell_type": "code",
   "execution_count": null,
   "metadata": {},
   "outputs": [],
   "source": [
    "# pass the system and the protocol to the engine\n",
    "\n",
    "equil_process_1 = BSS.Process.Amber(minimisation_system, equil_protocol_1, exe='/your/path/to/pmemd.cuda')"
   ]
  },
  {
   "cell_type": "code",
   "execution_count": null,
   "metadata": {},
   "outputs": [],
   "source": [
    "# Checking which engine will carry out the process eg sandr or pmemd\n",
    "\n",
    "equil_process_1.exe()"
   ]
  },
  {
   "cell_type": "code",
   "execution_count": null,
   "metadata": {},
   "outputs": [],
   "source": [
    "equil_process_1.start()"
   ]
  },
  {
   "cell_type": "code",
   "execution_count": null,
   "metadata": {},
   "outputs": [],
   "source": [
    "equil_process_1.isRunning()"
   ]
  },
  {
   "cell_type": "code",
   "execution_count": null,
   "metadata": {},
   "outputs": [],
   "source": [
    "equil_system_1 = equil_process_1.getSystem(block=True)"
   ]
  },
  {
   "cell_type": "code",
   "execution_count": null,
   "metadata": {},
   "outputs": [],
   "source": [
    "equil_process_1.isError()"
   ]
  },
  {
   "cell_type": "code",
   "execution_count": null,
   "metadata": {},
   "outputs": [],
   "source": [
    "type(equil_system_1)"
   ]
  },
  {
   "cell_type": "code",
   "execution_count": null,
   "metadata": {},
   "outputs": [],
   "source": [
    "# Generate a plot of time vs temperature.\n",
    "plot1 = BSS.Notebook.plot(equil_process_1.getTime(time_series=True), equil_process_1.getTemperature(time_series=True))\n",
    "\n",
    "# Generate a plot of time vs energy.\n",
    "plot2 = BSS.Notebook.plot(equil_process_1.getTime(time_series=True), equil_process_1.getTotalEnergy(time_series=True))\n"
   ]
  },
  {
   "cell_type": "markdown",
   "metadata": {},
   "source": [
    "#### Sander NVT equilibration for 50 ps without restrains"
   ]
  },
  {
   "cell_type": "code",
   "execution_count": null,
   "metadata": {},
   "outputs": [],
   "source": [
    "\n",
    "equil_protocol_2 = BSS.Protocol.Equilibration(\n",
    "                                runtime=50*BSS.Units.Time.picosecond, \n",
    "                                temperature=300*BSS.Units.Temperature.kelvin,\n",
    "                                restraint=\"backbone\"\n",
    "                                )\n"
   ]
  },
  {
   "cell_type": "code",
   "execution_count": null,
   "metadata": {},
   "outputs": [],
   "source": [
    "equil_process_2 = BSS.Process.Amber(equil_system_1, equil_protocol_2, exe='/your/path/to/pmemd.cuda')"
   ]
  },
  {
   "cell_type": "code",
   "execution_count": null,
   "metadata": {},
   "outputs": [],
   "source": [
    "equil_process_2.exe()"
   ]
  },
  {
   "cell_type": "code",
   "execution_count": null,
   "metadata": {},
   "outputs": [],
   "source": [
    "equil_process_2.start()"
   ]
  },
  {
   "cell_type": "code",
   "execution_count": null,
   "metadata": {},
   "outputs": [],
   "source": [
    "equil_process_2.isRunning()"
   ]
  },
  {
   "cell_type": "code",
   "execution_count": null,
   "metadata": {},
   "outputs": [],
   "source": [
    "equil_system_2 = equil_process_2.getSystem(block=True)"
   ]
  },
  {
   "cell_type": "code",
   "execution_count": null,
   "metadata": {},
   "outputs": [],
   "source": [
    "equil_process_2.isError()"
   ]
  },
  {
   "cell_type": "code",
   "execution_count": null,
   "metadata": {},
   "outputs": [],
   "source": [
    "# Generate a plot of time vs temperature.\n",
    "plot1 = BSS.Notebook.plot(equil_process_2.getTime(time_series=True), equil_process_2.getTemperature(time_series=True))\n",
    "\n",
    "# Generate a plot of time vs energy.\n",
    "plot2 = BSS.Notebook.plot(equil_process_2.getTime(time_series=True), equil_process_2.getTotalEnergy(time_series=True))\n"
   ]
  },
  {
   "cell_type": "markdown",
   "metadata": {},
   "source": [
    "#### NVT equilibiration for 50 ps without restraints"
   ]
  },
  {
   "cell_type": "code",
   "execution_count": null,
   "metadata": {},
   "outputs": [],
   "source": [
    "equil_protocol_3 = BSS.Protocol.Equilibration(\n",
    "\n",
    "                                runtime=50*BSS.Units.Time.picosecond, \n",
    "                                temperature_end=300*BSS.Units.Temperature.kelvin\n",
    ")"
   ]
  },
  {
   "cell_type": "markdown",
   "metadata": {},
   "source": [
    "#### Sander NPT equilibration for 200 ps while restraining non-solvent heavy atoms\n"
   ]
  },
  {
   "cell_type": "code",
   "execution_count": null,
   "metadata": {},
   "outputs": [],
   "source": [
    "equil_process_3 = BSS.Process.Amber(equil_system_2, equil_protocol_3, exe='/your/path/to/pmemd.cuda')"
   ]
  },
  {
   "cell_type": "code",
   "execution_count": null,
   "metadata": {},
   "outputs": [],
   "source": [
    "equil_process_3.exe()"
   ]
  },
  {
   "cell_type": "code",
   "execution_count": null,
   "metadata": {},
   "outputs": [],
   "source": [
    "equil_process_3.start()"
   ]
  },
  {
   "cell_type": "code",
   "execution_count": null,
   "metadata": {},
   "outputs": [],
   "source": [
    "equil_process_3.isRunning()"
   ]
  },
  {
   "cell_type": "code",
   "execution_count": null,
   "metadata": {},
   "outputs": [],
   "source": [
    "equil_system_3 = equil_process_3.getSystem(block=True)"
   ]
  },
  {
   "cell_type": "code",
   "execution_count": null,
   "metadata": {},
   "outputs": [],
   "source": [
    "equil_process_3.isError()"
   ]
  },
  {
   "cell_type": "code",
   "execution_count": null,
   "metadata": {},
   "outputs": [],
   "source": [
    "# Generate a plot of time vs temperature.\n",
    "plot1 = BSS.Notebook.plot(equil_process_3.getTime(time_series=True), equil_process_3.getTemperature(time_series=True))\n",
    "\n",
    "# Generate a plot of time vs energy.\n",
    "plot2 = BSS.Notebook.plot(equil_process_3.getTime(time_series=True), equil_process_3.getTotalEnergy(time_series=True))\n"
   ]
  },
  {
   "cell_type": "markdown",
   "metadata": {},
   "source": [
    "#### pmemd.cuda NPT equilibration for 200 ps while restraining non-solvent heavy atoms"
   ]
  },
  {
   "cell_type": "code",
   "execution_count": null,
   "metadata": {},
   "outputs": [],
   "source": [
    "\n",
    "equil_protocol_4 = BSS.Protocol.Equilibration(\n",
    "                                runtime=200*BSS.Units.Time.picosecond, \n",
    "                                pressure=1*BSS.Units.Pressure.atm,\n",
    "                                temperature_end=300*BSS.Units.Temperature.kelvin,\n",
    "                                restraint=\"heavy\"\n",
    "                                )\n"
   ]
  },
  {
   "cell_type": "code",
   "execution_count": null,
   "metadata": {},
   "outputs": [],
   "source": [
    "equil_process_4 = BSS.Process.Amber(equil_system_3, equil_protocol_4, exe='/your/path/to/pmemd.cuda')"
   ]
  },
  {
   "cell_type": "code",
   "execution_count": null,
   "metadata": {},
   "outputs": [],
   "source": [
    "equil_process_4.exe()"
   ]
  },
  {
   "cell_type": "code",
   "execution_count": null,
   "metadata": {},
   "outputs": [],
   "source": [
    "equil_process_4.start()"
   ]
  },
  {
   "cell_type": "code",
   "execution_count": null,
   "metadata": {},
   "outputs": [],
   "source": [
    "equil_process_4.isRunning()"
   ]
  },
  {
   "cell_type": "code",
   "execution_count": null,
   "metadata": {},
   "outputs": [],
   "source": [
    "equil_system_4 = equil_process_4.getSystem(block=True)"
   ]
  },
  {
   "cell_type": "code",
   "execution_count": null,
   "metadata": {},
   "outputs": [],
   "source": [
    "equil_process_4.isError()"
   ]
  },
  {
   "cell_type": "code",
   "execution_count": null,
   "metadata": {},
   "outputs": [],
   "source": [
    "\n",
    "# Generate a plot of time vs temperature.\n",
    "plot1 = BSS.Notebook.plot(equil_process_4.getTime(time_series=True), equil_process_4.getTemperature(time_series=True))\n",
    "\n",
    "# Generate a plot of time vs energy.\n",
    "plot2 = BSS.Notebook.plot(equil_process_4.getTime(time_series=True), equil_process_4.getTotalEnergy(time_series=True))\n"
   ]
  },
  {
   "cell_type": "code",
   "execution_count": null,
   "metadata": {},
   "outputs": [],
   "source": [
    "equil_protocol_5 =  BSS.Protocol.Equilibration(\n",
    "                                runtime=200*BSS.Units.Time.picosecond, \n",
    "                                pressure=1*BSS.Units.Pressure.atm,\n",
    "                                temperature=300*BSS.Units.Temperature.kelvin\n",
    "                                )"
   ]
  },
  {
   "cell_type": "code",
   "execution_count": null,
   "metadata": {},
   "outputs": [],
   "source": [
    "equil_process_5 = BSS.Process.Amber(equil_system_4, equil_protocol_5, exe='/your/path/to/pmemd.cuda')"
   ]
  },
  {
   "cell_type": "code",
   "execution_count": null,
   "metadata": {},
   "outputs": [],
   "source": [
    "equil_process_5.exe()"
   ]
  },
  {
   "cell_type": "code",
   "execution_count": null,
   "metadata": {},
   "outputs": [],
   "source": [
    "equil_process_5.start()"
   ]
  },
  {
   "cell_type": "code",
   "execution_count": null,
   "metadata": {},
   "outputs": [],
   "source": [
    "equil_process_5.isRunning()"
   ]
  },
  {
   "cell_type": "code",
   "execution_count": null,
   "metadata": {},
   "outputs": [],
   "source": [
    "equil_system_5 = equil_process_5.getSystem(block=True)"
   ]
  },
  {
   "cell_type": "code",
   "execution_count": null,
   "metadata": {},
   "outputs": [],
   "source": [
    "equil_process_5.isError()"
   ]
  },
  {
   "cell_type": "code",
   "execution_count": null,
   "metadata": {},
   "outputs": [],
   "source": [
    "# Generate a plot of time vs temperature.\n",
    "plot1 = BSS.Notebook.plot(equil_process_5.getTime(time_series=True), equil_process_5.getTemperature(time_series=True))\n",
    "\n",
    "# Generate a plot of time vs energy.\n",
    "plot2 = BSS.Notebook.plot(equil_process_5.getTime(time_series=True), equil_process_5.getTotalEnergy(time_series=True))"
   ]
  },
  {
   "cell_type": "code",
   "execution_count": null,
   "metadata": {},
   "outputs": [],
   "source": [
    "# Saving the NVT system\n",
    "\n",
    "BSS.IO.saveMolecules('path/to/the/folder/to/save/final_system', equil_system_5, [\"prm7\", \"rst7\",\"pdb\"])"
   ]
  }
 ],
 "metadata": {
  "interpreter": {
   "hash": "2ed2a4960b518e4119ec50320c4a4bdc720738a14f1de0c3adc67b7769cb2a27"
  },
  "kernelspec": {
   "display_name": "Python 3 (ipykernel)",
   "language": "python",
   "name": "python3"
  },
  "language_info": {
   "codemirror_mode": {
    "name": "ipython",
    "version": 3
   },
   "file_extension": ".py",
   "mimetype": "text/x-python",
   "name": "python",
   "nbconvert_exporter": "python",
   "pygments_lexer": "ipython3",
   "version": "3.9.13"
  },
  "vscode": {
   "interpreter": {
    "hash": "e245efbcdf5158974b034ed0d6dd9028f4f26134336109a58a41eeff0527b824"
   }
  }
 },
 "nbformat": 4,
 "nbformat_minor": 2
}
